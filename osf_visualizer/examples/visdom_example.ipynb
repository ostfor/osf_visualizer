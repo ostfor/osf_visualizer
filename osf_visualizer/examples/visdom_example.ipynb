{
 "cells": [
  {
   "cell_type": "markdown",
   "metadata": {
    "collapsed": true
   },
   "source": [
    "# Start visdom server\n",
    "\n",
    "```bash\n",
    "python -m visdom.server -port 8999\n",
    "```\n"
   ]
  },
  {
   "cell_type": "code",
   "execution_count": 2,
   "metadata": {},
   "outputs": [
    {
     "name": "stderr",
     "output_type": "stream",
     "text": [
      "WARNING:root:Setting up a new session...\n",
      "WARNING:root:Setting up a new session...\n"
     ]
    },
    {
     "name": "stdout",
     "output_type": "stream",
     "text": [
      "Visdom path:  iris:8999/env/Example0\n",
      "Visdom path:  iris:8999/env/Example1\n"
     ]
    }
   ],
   "source": [
    "from osf_visualizer.visdom_visualizer.async.visualization_producer import VisualizationProducer\n",
    "\n",
    "environment_num = 2\n",
    "\n",
    "for j in range(environment_num):\n",
    "    cb = VisualizationProducer([\"loss\", \"acc\"], \"Example{}\".format(j))\n",
    "    for i in range(1, 100):\n",
    "        cb.on_epoch_end(i, {\"loss\": 1.0 / i, \"acc\": 0.01 * i})"
   ]
  }
 ],
 "metadata": {
  "kernelspec": {
   "display_name": "Python 3",
   "language": "python",
   "name": "python3"
  },
  "language_info": {
   "codemirror_mode": {
    "name": "ipython",
    "version": 3
   },
   "file_extension": ".py",
   "mimetype": "text/x-python",
   "name": "python",
   "nbconvert_exporter": "python",
   "pygments_lexer": "ipython3",
   "version": "3.6.7"
  }
 },
 "nbformat": 4,
 "nbformat_minor": 1
}
